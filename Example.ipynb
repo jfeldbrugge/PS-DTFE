{
 "cells": [
  {
   "cell_type": "markdown",
   "metadata": {},
   "source": [
    "# Phase-Space Delaunay Tesselation Field Estimator"
   ]
  },
  {
   "cell_type": "code",
   "execution_count": null,
   "metadata": {},
   "outputs": [],
   "source": [
    "import numpy as np\n",
    "import density as dens\n",
    "\n",
    "Ni = 256\n",
    "L = 25.\n",
    "m = (L/Ni) ** 2."
   ]
  },
  {
   "cell_type": "markdown",
   "metadata": {},
   "source": [
    "Load N-body simulation"
   ]
  },
  {
   "cell_type": "code",
   "execution_count": null,
   "metadata": {},
   "outputs": [],
   "source": [
    "positions_initial = np.fromfile('data/positions_initial.bin',  dtype='float64').reshape((-1,2))\n",
    "positions  = np.fromfile('data/positions.bin',  dtype='float64').reshape((-1,2))\n",
    "velocities = np.fromfile('data/velocities.bin', dtype='float64').reshape((-1,2))"
   ]
  },
  {
   "cell_type": "markdown",
   "metadata": {},
   "source": [
    "Range of the density field"
   ]
  },
  {
   "cell_type": "code",
   "execution_count": null,
   "metadata": {},
   "outputs": [],
   "source": [
    "rangeX = np.arange(-0.05 * L, 0.05 * L, L / (8. * Ni))\n",
    "grid = np.array(np.meshgrid(rangeX, rangeX)).transpose(1,2,0).reshape((-1,2))"
   ]
  },
  {
   "cell_type": "markdown",
   "metadata": {},
   "source": [
    "DTFE"
   ]
  },
  {
   "cell_type": "code",
   "execution_count": null,
   "metadata": {},
   "outputs": [],
   "source": [
    "dtfe = dens.DTFE(positions, velocities, m)\n",
    "print('rho:', dtfe.density([0., 0.]), \n",
    "      'v:', dtfe.v([0., 0.]))\n",
    "density = np.array(list(map(lambda p: dtfe.density(p), grid)))\n",
    "density.astype('float64').tofile('data/density_DTFE.bin')\n",
    "\n",
    "vel = np.array(list(map(lambda p: dtfe.v(p), grid)))\n",
    "vel.astype('float64').tofile('data/v_dtfe.bin')"
   ]
  },
  {
   "cell_type": "markdown",
   "metadata": {},
   "source": [
    "Phase-Space Estimator"
   ]
  },
  {
   "cell_type": "code",
   "execution_count": null,
   "metadata": {},
   "outputs": [],
   "source": [
    "ps = dens.PhaseSpace(positions_initial, positions, m, depth = 10, box = np.array([[-L, L], [-L, L]]))\n",
    "print('rho:', ps.density([0., 0.]),\n",
    "      'streams:', ps.numberOfStreams([0., 0.]))\n",
    "density = np.array(list(map(lambda p: ps.density(p), grid)))\n",
    "density.astype('float64').tofile('data/density_PS.bin')"
   ]
  },
  {
   "cell_type": "markdown",
   "metadata": {},
   "source": [
    "Phase-Space DTFE"
   ]
  },
  {
   "cell_type": "code",
   "execution_count": null,
   "metadata": {},
   "outputs": [],
   "source": [
    "ps_dtfe = dens.PhaseSpaceDTFE(positions_initial, positions, velocities, m, depth = 10, box = np.array([[-L, L], [-L, L]]))\n",
    "print('rho:', ps_dtfe.density([0., 0.]), \n",
    "      'streams:', ps_dtfe.numberOfStreams([0., 0.]), \n",
    "      'v:', ps_dtfe.v([0., 0.]))\n",
    "density = np.array(list(map(lambda p: ps_dtfe.density(p), grid)))\n",
    "density.astype('float64').tofile('data/density_PS-DTFE.bin')\n",
    "\n",
    "streams = np.array(list(map(lambda p: ps_dtfe.numberOfStreams(p), grid)))\n",
    "streams.astype('float64').tofile('data/streams.bin')"
   ]
  }
 ],
 "metadata": {
  "language_info": {
   "name": "python"
  }
 },
 "nbformat": 4,
 "nbformat_minor": 2
}
