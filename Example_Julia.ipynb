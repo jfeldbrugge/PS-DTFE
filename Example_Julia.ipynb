{
 "cells": [
  {
   "cell_type": "markdown",
   "metadata": {},
   "source": [
    "# PS-DTFE Julia"
   ]
  },
  {
   "cell_type": "code",
   "execution_count": null,
   "metadata": {},
   "outputs": [],
   "source": [
    "using JLD, Plots, Alert, ProgressMeter\n",
    "include(\"density.jl\")\n",
    "\n",
    "# Set up box\n",
    "const Ni = 256\n",
    "const L = 25.\n",
    "const m = (L / Ni) ^ 2\n",
    "const rangeX = -0.05 * L : L / (8. * Ni) : 0.05 * L\n",
    "\n",
    "# Load data\n",
    "positions_initial = load(\"data/positions_initial.jld\")[\"data\"]\n",
    "positions = load(\"data/positions.jld\")[\"data\"]\n",
    "velocities = load(\"data/velocities.jld\")[\"data\"]\n",
    "\n",
    "nothing"
   ]
  },
  {
   "cell_type": "code",
   "execution_count": null,
   "metadata": {},
   "outputs": [],
   "source": [
    "# Evaluate density estimator\n",
    "const box = [-L  L; -L L]\n",
    "const depth = 10\n",
    "\n",
    "estimator = PS_DTFE(positions_initial, positions, velocities, m, depth, box)\n",
    "\n",
    "p = [0., 0.] \n",
    "\n",
    "println(\"density: \", density(p, estimator))\n",
    "println(\"velocity: \", v(p, estimator))\n",
    "println(\"number of streams: \", numberOfStreams(p, estimator))"
   ]
  },
  {
   "cell_type": "code",
   "execution_count": null,
   "metadata": {},
   "outputs": [],
   "source": [
    "rho = [density([x, y], estimator) for y in rangeX, x in rangeX]\n",
    "number = [numberOfStreams([x, y], estimator) for y in rangeX, x in rangeX]\n",
    "\n",
    "write(\"data/density_PS-DTFE_Julia.bin\", rho)\n",
    "write(\"data/number_PS-DTFE_Julia.bin\", number)\n",
    "\n",
    "pl1 = heatmap(rangeX, rangeX, log.(rho), aspect_ratio=:equal, xlims=(-0.05 * L, 0.05 * L), ylims=(-0.05 * L, 0.05 * L))\n",
    "pl2 = heatmap(rangeX, rangeX, log.(number), aspect_ratio=:equal, xlims=(-0.05 * L, 0.05 * L), ylims=(-0.05 * L, 0.05 * L))\n",
    "\n",
    "plot(pl1, pl2, layout = grid(1, 2), size=(1100, 400))"
   ]
  }
 ],
 "metadata": {
  "kernelspec": {
   "display_name": "Julia 1.11.1",
   "language": "julia",
   "name": "julia-1.11"
  },
  "language_info": {
   "file_extension": ".jl",
   "mimetype": "application/julia",
   "name": "julia",
   "version": "1.11.1"
  }
 },
 "nbformat": 4,
 "nbformat_minor": 2
}
