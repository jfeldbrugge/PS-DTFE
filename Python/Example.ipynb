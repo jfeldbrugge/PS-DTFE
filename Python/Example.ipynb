{
 "cells": [
  {
   "cell_type": "markdown",
   "metadata": {},
   "source": [
    "# Phase-Space Delaunay Tesselation Field Estimator"
   ]
  },
  {
   "cell_type": "code",
   "execution_count": null,
   "metadata": {},
   "outputs": [],
   "source": [
    "import numpy as np\n",
    "import density as dens\n",
    "\n",
    "Ni = 256\n",
    "L = 25.\n",
    "m = (L/Ni) ** 2."
   ]
  },
  {
   "cell_type": "markdown",
   "metadata": {},
   "source": [
    "Load N-body simulation"
   ]
  },
  {
   "cell_type": "code",
   "execution_count": null,
   "metadata": {},
   "outputs": [],
   "source": [
    "positions_initial = np.fromfile('data/positions_initial.bin',  dtype='float64').reshape((-1,2))\n",
    "positions  = np.fromfile('data/positions.bin',  dtype='float64').reshape((-1,2))\n",
    "velocities = np.fromfile('data/velocities.bin', dtype='float64').reshape((-1,2))"
   ]
  },
  {
   "cell_type": "markdown",
   "metadata": {},
   "source": [
    "Range of the density field"
   ]
  },
  {
   "cell_type": "code",
   "execution_count": null,
   "metadata": {},
   "outputs": [],
   "source": [
    "rangeX = np.arange(-0.05 * L, 0.05 * L, L / (8. * Ni))\n",
    "grid = np.array(np.meshgrid(rangeX, rangeX)).transpose(1,2,0).reshape((-1,2))"
   ]
  },
  {
   "cell_type": "markdown",
   "metadata": {},
   "source": [
    "DTFE"
   ]
  },
  {
   "cell_type": "code",
   "execution_count": null,
   "metadata": {},
   "outputs": [
    {
     "name": "stdout",
     "output_type": "stream",
     "text": [
      "rho: 315.2884834488324 v: [  -9.81598902 -136.85595352]\n"
     ]
    }
   ],
   "source": [
    "dtfe = dens.DTFE(positions, velocities, m)\n",
    "print('rho:', dtfe.density([0., 0.]), \n",
    "      'v:', dtfe.v([0., 0.]))\n",
    "density = np.array(list(map(lambda p: dtfe.density(p), grid)))\n",
    "density.astype('float64').tofile('data/density_DTFE.bin')\n",
    "\n",
    "vel = np.array(list(map(lambda p: dtfe.v(p), grid)))\n",
    "vel.astype('float64').tofile('data/v_dtfe.bin')"
   ]
  },
  {
   "cell_type": "markdown",
   "metadata": {},
   "source": [
    "Phase-Space Estimator"
   ]
  },
  {
   "cell_type": "code",
   "execution_count": null,
   "metadata": {},
   "outputs": [
    {
     "name": "stdout",
     "output_type": "stream",
     "text": [
      "rho: 1559.573723247077 streams: 26\n"
     ]
    }
   ],
   "source": [
    "ps = dens.PhaseSpace(positions_initial, positions, m, depth = 10, box = np.array([[-L, L], [-L, L]]))\n",
    "print('rho:', ps.density([0., 0.]),\n",
    "      'streams:', ps.numberOfStreams([0., 0.]))\n",
    "density = np.array(list(map(lambda p: ps.density(p), grid)))\n",
    "density.astype('float64').tofile('data/density_PS.bin')"
   ]
  },
  {
   "cell_type": "markdown",
   "metadata": {},
   "source": [
    "Phase-Space DTFE"
   ]
  },
  {
   "cell_type": "code",
   "execution_count": null,
   "metadata": {},
   "outputs": [
    {
     "name": "stdout",
     "output_type": "stream",
     "text": [
      "rho: 176.74570019702475 streams: 26 v: [[  17.10198963 -211.50275341]\n",
      " [ -72.03354939 -157.47626127]\n",
      " [-138.62865409  -44.1477039 ]\n",
      " [ -14.13836938 -301.98106812]\n",
      " [ -36.7395993  -286.39366329]\n",
      " [ 289.88224134 -357.03133643]\n",
      " [-361.60331438 -211.07321241]\n",
      " [-228.93018081 -232.92643616]\n",
      " [-272.22011312 -316.58046863]\n",
      " [-121.99349474 -200.93935833]\n",
      " [ 180.52646213 -236.49470805]\n",
      " [ -45.85608003 -282.37860597]\n",
      " [ -76.31262966 -263.70112048]\n",
      " [ -22.06640099 -293.81192506]\n",
      " [ 136.05348772 -335.52504419]\n",
      " [-181.22647877 -125.43171773]\n",
      " [  67.5888178  -152.41118232]\n",
      " [ -15.50049378 -106.906283  ]\n",
      " [  60.51504965 -314.39639465]\n",
      " [-106.65684009 -264.67390198]\n",
      " [-191.87254658 -237.21329723]\n",
      " [ -68.13956456  -87.63669163]\n",
      " [ -44.89179092   42.00845931]\n",
      " [  95.00293046 -154.6870154 ]\n",
      " [ 113.23219064  -69.32671111]\n",
      " [  49.59323832 -261.71634646]]\n"
     ]
    }
   ],
   "source": [
    "ps_dtfe = dens.PhaseSpaceDTFE(positions_initial, positions, velocities, m, depth = 10, box = np.array([[-L, L], [-L, L]]))\n",
    "print('rho:', ps_dtfe.density([0., 0.]), \n",
    "      'streams:', ps_dtfe.numberOfStreams([0., 0.]), \n",
    "      'v:', ps_dtfe.v([0., 0.]))\n",
    "density = np.array(list(map(lambda p: ps_dtfe.density(p), grid)))\n",
    "density.astype('float64').tofile('data/density_PS-DTFE.bin')\n",
    "\n",
    "streams = np.array(list(map(lambda p: ps_dtfe.numberOfStreams(p), grid)))\n",
    "streams.astype('float64').tofile('data/streams.bin')"
   ]
  },
  {
   "cell_type": "code",
   "execution_count": null,
   "metadata": {},
   "outputs": [],
   "source": [
    "ps_dtfe = dens.PhaseSpaceDTFE(positions_initial, positions, velocities, m, depth = 10, box = np.array([[-L, L], [-L, L]]))"
   ]
  },
  {
   "cell_type": "code",
   "execution_count": null,
   "metadata": {},
   "outputs": [],
   "source": []
  }
 ],
 "metadata": {
  "kernelspec": {
   "display_name": "Python 3",
   "language": "python",
   "name": "python3"
  },
  "language_info": {
   "codemirror_mode": {
    "name": "ipython",
    "version": 3
   },
   "file_extension": ".py",
   "mimetype": "text/x-python",
   "name": "python",
   "nbconvert_exporter": "python",
   "pygments_lexer": "ipython3",
   "version": "3.12.7"
  }
 },
 "nbformat": 4,
 "nbformat_minor": 2
}
